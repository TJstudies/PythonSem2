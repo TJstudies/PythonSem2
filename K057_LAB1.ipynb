{
 "cells": [
  {
   "cell_type": "markdown",
   "id": "6855129d",
   "metadata": {},
   "source": [
    "Name : Tejas Sahoo\n",
    "Roll No : K057\n",
    "Btech (CSE-Cybersecurity)\n",
    "Python programing, sem 2\n",
    "Lab-1\n",
    "12-December-2023"
   ]
  },
  {
   "cell_type": "markdown",
   "id": "b45edb49",
   "metadata": {},
   "source": [
    "Program1: Study of input and output"
   ]
  },
  {
   "cell_type": "code",
   "execution_count": 1,
   "id": "4679c655",
   "metadata": {},
   "outputs": [
    {
     "name": "stdout",
     "output_type": "stream",
     "text": [
      "hello world\n"
     ]
    }
   ],
   "source": [
    "print(\"hello world\")"
   ]
  },
  {
   "cell_type": "code",
   "execution_count": 8,
   "id": "03c5dafb",
   "metadata": {},
   "outputs": [
    {
     "name": "stdout",
     "output_type": "stream",
     "text": [
      "Enter a number 1:1+2j\n",
      "Enter a number 2:2+4j\n",
      "(3+6j)\n"
     ]
    }
   ],
   "source": [
    "n1=complex(input(\"Enter a number 1:\"))\n",
    "n2=complex(input(\"Enter a number 2:\"))\n",
    "\n",
    "print(n1+n2)"
   ]
  },
  {
   "cell_type": "markdown",
   "id": "280f5830",
   "metadata": {},
   "source": [
    "Program 2 : Study of arithmetic Operators ( +,-,*,/,%,**,//)"
   ]
  },
  {
   "cell_type": "code",
   "execution_count": 9,
   "id": "b2b5fca7",
   "metadata": {},
   "outputs": [
    {
     "name": "stdout",
     "output_type": "stream",
     "text": [
      "Enter a number 1:2\n",
      "Enter a number 2:2\n",
      "addition of 2 and 2 = 4 \n"
     ]
    }
   ],
   "source": [
    "n1=int(input(\"Enter a number 1:\"))\n",
    "n2=int(input(\"Enter a number 2:\"))\n",
    "print(\"addition of %s and %s = %s \"%(n1,n2,n1+n2))\n",
    "\n"
   ]
  },
  {
   "cell_type": "code",
   "execution_count": 15,
   "id": "8b5df313",
   "metadata": {},
   "outputs": [
    {
     "name": "stdout",
     "output_type": "stream",
     "text": [
      "Enter a number 1:1\n",
      "Enter a number 2:2\n",
      "division of 1 and 2 = 0.5 \n"
     ]
    }
   ],
   "source": [
    "n1=int(input(\"Enter a number 1:\"))\n",
    "n2=int(input(\"Enter a number 2:\"))\n",
    "print(\"division of %s and %s = %s \"%(n1,n2,n1/n2))"
   ]
  },
  {
   "cell_type": "code",
   "execution_count": 1,
   "id": "5e0ade87",
   "metadata": {},
   "outputs": [
    {
     "name": "stdout",
     "output_type": "stream",
     "text": [
      "Enter a number 1:1\n",
      "Enter a number 2:2\n",
      "integer division of 1 and 2 = 0 \n"
     ]
    }
   ],
   "source": [
    "n1=int(input(\"Enter a number 1:\"))\n",
    "n2=int(input(\"Enter a number 2:\"))\n",
    "print(\"integer division of %s and %s = %s \"%(n1,n2,n1//n2))\n"
   ]
  },
  {
   "cell_type": "code",
   "execution_count": 2,
   "id": "509b0025",
   "metadata": {},
   "outputs": [
    {
     "name": "stdout",
     "output_type": "stream",
     "text": [
      "Enter a number 1:1\n",
      "Enter a number 2:2\n",
      "mod function of 1 and 2 = 1 \n"
     ]
    }
   ],
   "source": [
    "n1=int(input(\"Enter a number 1:\"))\n",
    "n2=int(input(\"Enter a number 2:\"))\n",
    "print(\"mod function of %s and %s = %s \"%(n1,n2,n1%n2))\n"
   ]
  },
  {
   "cell_type": "markdown",
   "id": "2b8ec365",
   "metadata": {},
   "source": [
    "AND is representated by & \n",
    "needs both values to be true that is 1 and output will be 1\n",
    "\n",
    "OR is representated by | \n",
    "any one value can be true that is 1 and output will be 1\n",
    "\n",
    "XOR is representated by ^\n",
    "both the values should be opposite to each other that is 01 or 10 else it will be false that is zero if it is 10 or 01 then output will be 1;\n",
    "\n",
    "NOT is representated by ~\n",
    "it is a unary operator means it only  requires one input and it can work on it\n",
    "what it does is it basically flips the switches  of 0 to 1 and 1 to 0 essentially flipping the binary digits\n",
    "\n",
    "\n",
    "Left shift basically shifts all the bits to the left side and then the most right side vacant side is filled with 0\n",
    "Represented by << and >> works same but opposite\n",
    "\n",
    "when left shift is done the number is multiplied by two \n",
    "and when right shift is done to the number the number is divided by two"
   ]
  },
  {
   "cell_type": "code",
   "execution_count": null,
   "id": "8edb5671",
   "metadata": {},
   "outputs": [],
   "source": [
    "n1 = 7\n",
    "n2 = 5 \n",
    "print(\"%s bitwise and %s = %s \"(n1,n2,n1&n2))\n",
    "print(\"%s bitwise or %s = %s \"(n1,n2,n1|n2))\n",
    "print(\"%s bitwise xor %s = %s \"(n1,n2,n1^n2))\n",
    "print(\"%s bitwise not %s = %s \"(n1,n2,n1~))\n",
    "print(\"%s bitwise >> %s = %s \"(n1,n2,n1>>2))\n"
   ]
  },
  {
   "cell_type": "markdown",
   "id": "749efe9b",
   "metadata": {},
   "source": [
    "Prog 3 : Binary Octal and Hexa Decimal"
   ]
  },
  {
   "cell_type": "code",
   "execution_count": 3,
   "id": "5b29480c",
   "metadata": {},
   "outputs": [
    {
     "name": "stdout",
     "output_type": "stream",
     "text": [
      "Binary Representation of 12 = 0b1100\n",
      "Octal Representation of 12 = 0o14\n",
      "hex Representation of 12 = 0xc\n"
     ]
    }
   ],
   "source": [
    "n = 12\n",
    "print(\"Binary Representation of %s = %s\"%(n,bin(n)))\n",
    "print(\"Octal Representation of %s = %s\"%(n,oct(n)))\n",
    "print(\"hex Representation of %s = %s\"%(n,hex(n)))"
   ]
  },
  {
   "cell_type": "markdown",
   "id": "97d7742c",
   "metadata": {},
   "source": [
    "P1: Arithmetic operators\n",
    "P2: Bitwise operator\n",
    "P3: Convert Decimal to binary, Oct , Hex\n",
    "P4: Program to convert binary to decimal, octal to decimal,\n",
    "hex to decimal"
   ]
  }
 ],
 "metadata": {
  "kernelspec": {
   "display_name": "Python 3 (ipykernel)",
   "language": "python",
   "name": "python3"
  },
  "language_info": {
   "codemirror_mode": {
    "name": "ipython",
    "version": 3
   },
   "file_extension": ".py",
   "mimetype": "text/x-python",
   "name": "python",
   "nbconvert_exporter": "python",
   "pygments_lexer": "ipython3",
   "version": "3.9.13"
  }
 },
 "nbformat": 4,
 "nbformat_minor": 5
}
